{
  "nbformat": 4,
  "nbformat_minor": 0,
  "metadata": {
    "colab": {
      "name": "Text_Categorization_En.ipynb",
      "provenance": []
    },
    "kernelspec": {
      "name": "python3",
      "display_name": "Python 3"
    },
    "accelerator": "GPU",
    "widgets": {
      "application/vnd.jupyter.widget-state+json": {
        "9270e42f979e4ef1a96f7193fe422b8f": {
          "model_module": "@jupyter-widgets/controls",
          "model_name": "HBoxModel",
          "state": {
            "_view_name": "HBoxView",
            "_dom_classes": [],
            "_model_name": "HBoxModel",
            "_view_module": "@jupyter-widgets/controls",
            "_model_module_version": "1.5.0",
            "_view_count": null,
            "_view_module_version": "1.5.0",
            "box_style": "",
            "layout": "IPY_MODEL_fe5eb34f5c8f4604b4bc3274b9cc6e31",
            "_model_module": "@jupyter-widgets/controls",
            "children": [
              "IPY_MODEL_2fc67395cae041c08cc4eeb879bba89f",
              "IPY_MODEL_38118c193c614dad87e4966acf2ecc84"
            ]
          }
        },
        "fe5eb34f5c8f4604b4bc3274b9cc6e31": {
          "model_module": "@jupyter-widgets/base",
          "model_name": "LayoutModel",
          "state": {
            "_view_name": "LayoutView",
            "grid_template_rows": null,
            "right": null,
            "justify_content": null,
            "_view_module": "@jupyter-widgets/base",
            "overflow": null,
            "_model_module_version": "1.2.0",
            "_view_count": null,
            "flex_flow": null,
            "width": null,
            "min_width": null,
            "border": null,
            "align_items": null,
            "bottom": null,
            "_model_module": "@jupyter-widgets/base",
            "top": null,
            "grid_column": null,
            "overflow_y": null,
            "overflow_x": null,
            "grid_auto_flow": null,
            "grid_area": null,
            "grid_template_columns": null,
            "flex": null,
            "_model_name": "LayoutModel",
            "justify_items": null,
            "grid_row": null,
            "max_height": null,
            "align_content": null,
            "visibility": null,
            "align_self": null,
            "height": null,
            "min_height": null,
            "padding": null,
            "grid_auto_rows": null,
            "grid_gap": null,
            "max_width": null,
            "order": null,
            "_view_module_version": "1.2.0",
            "grid_template_areas": null,
            "object_position": null,
            "object_fit": null,
            "grid_auto_columns": null,
            "margin": null,
            "display": null,
            "left": null
          }
        },
        "2fc67395cae041c08cc4eeb879bba89f": {
          "model_module": "@jupyter-widgets/controls",
          "model_name": "FloatProgressModel",
          "state": {
            "_view_name": "ProgressView",
            "style": "IPY_MODEL_1175d38266a542cea76e542756cc66c5",
            "_dom_classes": [],
            "description": "Downloading: 100%",
            "_model_name": "FloatProgressModel",
            "bar_style": "success",
            "max": 760,
            "_view_module": "@jupyter-widgets/controls",
            "_model_module_version": "1.5.0",
            "value": 760,
            "_view_count": null,
            "_view_module_version": "1.5.0",
            "orientation": "horizontal",
            "min": 0,
            "description_tooltip": null,
            "_model_module": "@jupyter-widgets/controls",
            "layout": "IPY_MODEL_c3c54dfe52a7406a9edacda7f35a26d9"
          }
        },
        "38118c193c614dad87e4966acf2ecc84": {
          "model_module": "@jupyter-widgets/controls",
          "model_name": "HTMLModel",
          "state": {
            "_view_name": "HTMLView",
            "style": "IPY_MODEL_22264b9c9caf4c6ea46bfcf0d7146a61",
            "_dom_classes": [],
            "description": "",
            "_model_name": "HTMLModel",
            "placeholder": "​",
            "_view_module": "@jupyter-widgets/controls",
            "_model_module_version": "1.5.0",
            "value": " 760/760 [00:00&lt;00:00, 2.30kB/s]",
            "_view_count": null,
            "_view_module_version": "1.5.0",
            "description_tooltip": null,
            "_model_module": "@jupyter-widgets/controls",
            "layout": "IPY_MODEL_ad083bd037b442a698f428a5033a0e30"
          }
        },
        "1175d38266a542cea76e542756cc66c5": {
          "model_module": "@jupyter-widgets/controls",
          "model_name": "ProgressStyleModel",
          "state": {
            "_view_name": "StyleView",
            "_model_name": "ProgressStyleModel",
            "description_width": "initial",
            "_view_module": "@jupyter-widgets/base",
            "_model_module_version": "1.5.0",
            "_view_count": null,
            "_view_module_version": "1.2.0",
            "bar_color": null,
            "_model_module": "@jupyter-widgets/controls"
          }
        },
        "c3c54dfe52a7406a9edacda7f35a26d9": {
          "model_module": "@jupyter-widgets/base",
          "model_name": "LayoutModel",
          "state": {
            "_view_name": "LayoutView",
            "grid_template_rows": null,
            "right": null,
            "justify_content": null,
            "_view_module": "@jupyter-widgets/base",
            "overflow": null,
            "_model_module_version": "1.2.0",
            "_view_count": null,
            "flex_flow": null,
            "width": null,
            "min_width": null,
            "border": null,
            "align_items": null,
            "bottom": null,
            "_model_module": "@jupyter-widgets/base",
            "top": null,
            "grid_column": null,
            "overflow_y": null,
            "overflow_x": null,
            "grid_auto_flow": null,
            "grid_area": null,
            "grid_template_columns": null,
            "flex": null,
            "_model_name": "LayoutModel",
            "justify_items": null,
            "grid_row": null,
            "max_height": null,
            "align_content": null,
            "visibility": null,
            "align_self": null,
            "height": null,
            "min_height": null,
            "padding": null,
            "grid_auto_rows": null,
            "grid_gap": null,
            "max_width": null,
            "order": null,
            "_view_module_version": "1.2.0",
            "grid_template_areas": null,
            "object_position": null,
            "object_fit": null,
            "grid_auto_columns": null,
            "margin": null,
            "display": null,
            "left": null
          }
        },
        "22264b9c9caf4c6ea46bfcf0d7146a61": {
          "model_module": "@jupyter-widgets/controls",
          "model_name": "DescriptionStyleModel",
          "state": {
            "_view_name": "StyleView",
            "_model_name": "DescriptionStyleModel",
            "description_width": "",
            "_view_module": "@jupyter-widgets/base",
            "_model_module_version": "1.5.0",
            "_view_count": null,
            "_view_module_version": "1.2.0",
            "_model_module": "@jupyter-widgets/controls"
          }
        },
        "ad083bd037b442a698f428a5033a0e30": {
          "model_module": "@jupyter-widgets/base",
          "model_name": "LayoutModel",
          "state": {
            "_view_name": "LayoutView",
            "grid_template_rows": null,
            "right": null,
            "justify_content": null,
            "_view_module": "@jupyter-widgets/base",
            "overflow": null,
            "_model_module_version": "1.2.0",
            "_view_count": null,
            "flex_flow": null,
            "width": null,
            "min_width": null,
            "border": null,
            "align_items": null,
            "bottom": null,
            "_model_module": "@jupyter-widgets/base",
            "top": null,
            "grid_column": null,
            "overflow_y": null,
            "overflow_x": null,
            "grid_auto_flow": null,
            "grid_area": null,
            "grid_template_columns": null,
            "flex": null,
            "_model_name": "LayoutModel",
            "justify_items": null,
            "grid_row": null,
            "max_height": null,
            "align_content": null,
            "visibility": null,
            "align_self": null,
            "height": null,
            "min_height": null,
            "padding": null,
            "grid_auto_rows": null,
            "grid_gap": null,
            "max_width": null,
            "order": null,
            "_view_module_version": "1.2.0",
            "grid_template_areas": null,
            "object_position": null,
            "object_fit": null,
            "grid_auto_columns": null,
            "margin": null,
            "display": null,
            "left": null
          }
        },
        "8e378b2d0dd24f06a930bfaf4ad9dccc": {
          "model_module": "@jupyter-widgets/controls",
          "model_name": "HBoxModel",
          "state": {
            "_view_name": "HBoxView",
            "_dom_classes": [],
            "_model_name": "HBoxModel",
            "_view_module": "@jupyter-widgets/controls",
            "_model_module_version": "1.5.0",
            "_view_count": null,
            "_view_module_version": "1.5.0",
            "box_style": "",
            "layout": "IPY_MODEL_316ac7d464b349b08983f595aa06a4d7",
            "_model_module": "@jupyter-widgets/controls",
            "children": [
              "IPY_MODEL_48f3a5c7135a40c594dd9eb1a4a34bce",
              "IPY_MODEL_8e9dc769c570440e828ed70f8fcd5597"
            ]
          }
        },
        "316ac7d464b349b08983f595aa06a4d7": {
          "model_module": "@jupyter-widgets/base",
          "model_name": "LayoutModel",
          "state": {
            "_view_name": "LayoutView",
            "grid_template_rows": null,
            "right": null,
            "justify_content": null,
            "_view_module": "@jupyter-widgets/base",
            "overflow": null,
            "_model_module_version": "1.2.0",
            "_view_count": null,
            "flex_flow": null,
            "width": null,
            "min_width": null,
            "border": null,
            "align_items": null,
            "bottom": null,
            "_model_module": "@jupyter-widgets/base",
            "top": null,
            "grid_column": null,
            "overflow_y": null,
            "overflow_x": null,
            "grid_auto_flow": null,
            "grid_area": null,
            "grid_template_columns": null,
            "flex": null,
            "_model_name": "LayoutModel",
            "justify_items": null,
            "grid_row": null,
            "max_height": null,
            "align_content": null,
            "visibility": null,
            "align_self": null,
            "height": null,
            "min_height": null,
            "padding": null,
            "grid_auto_rows": null,
            "grid_gap": null,
            "max_width": null,
            "order": null,
            "_view_module_version": "1.2.0",
            "grid_template_areas": null,
            "object_position": null,
            "object_fit": null,
            "grid_auto_columns": null,
            "margin": null,
            "display": null,
            "left": null
          }
        },
        "48f3a5c7135a40c594dd9eb1a4a34bce": {
          "model_module": "@jupyter-widgets/controls",
          "model_name": "FloatProgressModel",
          "state": {
            "_view_name": "ProgressView",
            "style": "IPY_MODEL_3fd70b1eed1848abbc7b00326408a8ef",
            "_dom_classes": [],
            "description": "Downloading: 100%",
            "_model_name": "FloatProgressModel",
            "bar_style": "success",
            "max": 467042463,
            "_view_module": "@jupyter-widgets/controls",
            "_model_module_version": "1.5.0",
            "value": 467042463,
            "_view_count": null,
            "_view_module_version": "1.5.0",
            "orientation": "horizontal",
            "min": 0,
            "description_tooltip": null,
            "_model_module": "@jupyter-widgets/controls",
            "layout": "IPY_MODEL_d8b6be047ad745da9cf02dabc6290dcc"
          }
        },
        "8e9dc769c570440e828ed70f8fcd5597": {
          "model_module": "@jupyter-widgets/controls",
          "model_name": "HTMLModel",
          "state": {
            "_view_name": "HTMLView",
            "style": "IPY_MODEL_767eae04ee9943e3b1a6c6b747b00ebd",
            "_dom_classes": [],
            "description": "",
            "_model_name": "HTMLModel",
            "placeholder": "​",
            "_view_module": "@jupyter-widgets/controls",
            "_model_module_version": "1.5.0",
            "value": " 467M/467M [01:50&lt;00:00, 4.22MB/s]",
            "_view_count": null,
            "_view_module_version": "1.5.0",
            "description_tooltip": null,
            "_model_module": "@jupyter-widgets/controls",
            "layout": "IPY_MODEL_1e4a84b8f62a4360b1cebc46db341206"
          }
        },
        "3fd70b1eed1848abbc7b00326408a8ef": {
          "model_module": "@jupyter-widgets/controls",
          "model_name": "ProgressStyleModel",
          "state": {
            "_view_name": "StyleView",
            "_model_name": "ProgressStyleModel",
            "description_width": "initial",
            "_view_module": "@jupyter-widgets/base",
            "_model_module_version": "1.5.0",
            "_view_count": null,
            "_view_module_version": "1.2.0",
            "bar_color": null,
            "_model_module": "@jupyter-widgets/controls"
          }
        },
        "d8b6be047ad745da9cf02dabc6290dcc": {
          "model_module": "@jupyter-widgets/base",
          "model_name": "LayoutModel",
          "state": {
            "_view_name": "LayoutView",
            "grid_template_rows": null,
            "right": null,
            "justify_content": null,
            "_view_module": "@jupyter-widgets/base",
            "overflow": null,
            "_model_module_version": "1.2.0",
            "_view_count": null,
            "flex_flow": null,
            "width": null,
            "min_width": null,
            "border": null,
            "align_items": null,
            "bottom": null,
            "_model_module": "@jupyter-widgets/base",
            "top": null,
            "grid_column": null,
            "overflow_y": null,
            "overflow_x": null,
            "grid_auto_flow": null,
            "grid_area": null,
            "grid_template_columns": null,
            "flex": null,
            "_model_name": "LayoutModel",
            "justify_items": null,
            "grid_row": null,
            "max_height": null,
            "align_content": null,
            "visibility": null,
            "align_self": null,
            "height": null,
            "min_height": null,
            "padding": null,
            "grid_auto_rows": null,
            "grid_gap": null,
            "max_width": null,
            "order": null,
            "_view_module_version": "1.2.0",
            "grid_template_areas": null,
            "object_position": null,
            "object_fit": null,
            "grid_auto_columns": null,
            "margin": null,
            "display": null,
            "left": null
          }
        },
        "767eae04ee9943e3b1a6c6b747b00ebd": {
          "model_module": "@jupyter-widgets/controls",
          "model_name": "DescriptionStyleModel",
          "state": {
            "_view_name": "StyleView",
            "_model_name": "DescriptionStyleModel",
            "description_width": "",
            "_view_module": "@jupyter-widgets/base",
            "_model_module_version": "1.5.0",
            "_view_count": null,
            "_view_module_version": "1.2.0",
            "_model_module": "@jupyter-widgets/controls"
          }
        },
        "1e4a84b8f62a4360b1cebc46db341206": {
          "model_module": "@jupyter-widgets/base",
          "model_name": "LayoutModel",
          "state": {
            "_view_name": "LayoutView",
            "grid_template_rows": null,
            "right": null,
            "justify_content": null,
            "_view_module": "@jupyter-widgets/base",
            "overflow": null,
            "_model_module_version": "1.2.0",
            "_view_count": null,
            "flex_flow": null,
            "width": null,
            "min_width": null,
            "border": null,
            "align_items": null,
            "bottom": null,
            "_model_module": "@jupyter-widgets/base",
            "top": null,
            "grid_column": null,
            "overflow_y": null,
            "overflow_x": null,
            "grid_auto_flow": null,
            "grid_area": null,
            "grid_template_columns": null,
            "flex": null,
            "_model_name": "LayoutModel",
            "justify_items": null,
            "grid_row": null,
            "max_height": null,
            "align_content": null,
            "visibility": null,
            "align_self": null,
            "height": null,
            "min_height": null,
            "padding": null,
            "grid_auto_rows": null,
            "grid_gap": null,
            "max_width": null,
            "order": null,
            "_view_module_version": "1.2.0",
            "grid_template_areas": null,
            "object_position": null,
            "object_fit": null,
            "grid_auto_columns": null,
            "margin": null,
            "display": null,
            "left": null
          }
        }
      }
    }
  },
  "cells": [
    {
      "cell_type": "code",
      "metadata": {
        "id": "kBmHQM3qccWk",
        "colab_type": "code",
        "colab": {
          "base_uri": "https://localhost:8080/",
          "height": 615
        },
        "outputId": "0bd81de1-fefe-4639-fce4-69ef7b3df98d"
      },
      "source": [
        "!pip install transformers "
      ],
      "execution_count": 2,
      "outputs": [
        {
          "output_type": "stream",
          "text": [
            "Collecting transformers\n",
            "\u001b[?25l  Downloading https://files.pythonhosted.org/packages/27/3c/91ed8f5c4e7ef3227b4119200fc0ed4b4fd965b1f0172021c25701087825/transformers-3.0.2-py3-none-any.whl (769kB)\n",
            "\u001b[K     |████████████████████████████████| 778kB 3.4MB/s \n",
            "\u001b[?25hCollecting tokenizers==0.8.1.rc1\n",
            "\u001b[?25l  Downloading https://files.pythonhosted.org/packages/40/d0/30d5f8d221a0ed981a186c8eb986ce1c94e3a6e87f994eae9f4aa5250217/tokenizers-0.8.1rc1-cp36-cp36m-manylinux1_x86_64.whl (3.0MB)\n",
            "\u001b[K     |████████████████████████████████| 3.0MB 24.6MB/s \n",
            "\u001b[?25hRequirement already satisfied: filelock in /usr/local/lib/python3.6/dist-packages (from transformers) (3.0.12)\n",
            "Requirement already satisfied: dataclasses; python_version < \"3.7\" in /usr/local/lib/python3.6/dist-packages (from transformers) (0.7)\n",
            "Requirement already satisfied: numpy in /usr/local/lib/python3.6/dist-packages (from transformers) (1.18.5)\n",
            "Requirement already satisfied: tqdm>=4.27 in /usr/local/lib/python3.6/dist-packages (from transformers) (4.41.1)\n",
            "Requirement already satisfied: requests in /usr/local/lib/python3.6/dist-packages (from transformers) (2.23.0)\n",
            "Collecting sentencepiece!=0.1.92\n",
            "\u001b[?25l  Downloading https://files.pythonhosted.org/packages/d4/a4/d0a884c4300004a78cca907a6ff9a5e9fe4f090f5d95ab341c53d28cbc58/sentencepiece-0.1.91-cp36-cp36m-manylinux1_x86_64.whl (1.1MB)\n",
            "\u001b[K     |████████████████████████████████| 1.1MB 19.8MB/s \n",
            "\u001b[?25hRequirement already satisfied: packaging in /usr/local/lib/python3.6/dist-packages (from transformers) (20.4)\n",
            "Collecting sacremoses\n",
            "\u001b[?25l  Downloading https://files.pythonhosted.org/packages/7d/34/09d19aff26edcc8eb2a01bed8e98f13a1537005d31e95233fd48216eed10/sacremoses-0.0.43.tar.gz (883kB)\n",
            "\u001b[K     |████████████████████████████████| 890kB 38.3MB/s \n",
            "\u001b[?25hRequirement already satisfied: regex!=2019.12.17 in /usr/local/lib/python3.6/dist-packages (from transformers) (2019.12.20)\n",
            "Requirement already satisfied: urllib3!=1.25.0,!=1.25.1,<1.26,>=1.21.1 in /usr/local/lib/python3.6/dist-packages (from requests->transformers) (1.24.3)\n",
            "Requirement already satisfied: chardet<4,>=3.0.2 in /usr/local/lib/python3.6/dist-packages (from requests->transformers) (3.0.4)\n",
            "Requirement already satisfied: idna<3,>=2.5 in /usr/local/lib/python3.6/dist-packages (from requests->transformers) (2.10)\n",
            "Requirement already satisfied: certifi>=2017.4.17 in /usr/local/lib/python3.6/dist-packages (from requests->transformers) (2020.6.20)\n",
            "Requirement already satisfied: pyparsing>=2.0.2 in /usr/local/lib/python3.6/dist-packages (from packaging->transformers) (2.4.7)\n",
            "Requirement already satisfied: six in /usr/local/lib/python3.6/dist-packages (from packaging->transformers) (1.15.0)\n",
            "Requirement already satisfied: click in /usr/local/lib/python3.6/dist-packages (from sacremoses->transformers) (7.1.2)\n",
            "Requirement already satisfied: joblib in /usr/local/lib/python3.6/dist-packages (from sacremoses->transformers) (0.16.0)\n",
            "Building wheels for collected packages: sacremoses\n",
            "  Building wheel for sacremoses (setup.py) ... \u001b[?25l\u001b[?25hdone\n",
            "  Created wheel for sacremoses: filename=sacremoses-0.0.43-cp36-none-any.whl size=893260 sha256=7038b92e0347a92dc1010cbef618fd296ddd6932099997dcbfa37ad090cea5e0\n",
            "  Stored in directory: /root/.cache/pip/wheels/29/3c/fd/7ce5c3f0666dab31a50123635e6fb5e19ceb42ce38d4e58f45\n",
            "Successfully built sacremoses\n",
            "Installing collected packages: tokenizers, sentencepiece, sacremoses, transformers\n",
            "Successfully installed sacremoses-0.0.43 sentencepiece-0.1.91 tokenizers-0.8.1rc1 transformers-3.0.2\n"
          ],
          "name": "stdout"
        }
      ]
    },
    {
      "cell_type": "code",
      "metadata": {
        "id": "Fd91SHRYc2Gn",
        "colab_type": "code",
        "colab": {}
      },
      "source": [
        " %reload_ext autoreload\n",
        " %autoreload 2\n",
        " %matplotlib inline"
      ],
      "execution_count": 3,
      "outputs": []
    },
    {
      "cell_type": "code",
      "metadata": {
        "id": "7VDV9XgLccZo",
        "colab_type": "code",
        "colab": {}
      },
      "source": [
        "  \n",
        "\n",
        "import pandas as pd\n",
        "import math\n",
        "import numpy as np\n",
        "from sklearn.metrics import classification_report\n",
        "import torch.nn.functional as F\n",
        "import pandas as pd\n",
        "import math\n",
        "import numpy as np\n",
        "from sklearn.metrics import classification_report\n",
        "import torch.nn.functional as F\n",
        "import torch\n",
        "import os\n",
        "from tqdm import tqdm,trange\n",
        "from torch.optim import Adam\n",
        "from torch.utils.data import TensorDataset, DataLoader, RandomSampler, SequentialSampler\n",
        "from sklearn.model_selection import train_test_split\n",
        "from transformers import (XLNetConfig, XLNetForSequenceClassification, XLNetTokenizer)\n",
        "\n"
      ],
      "execution_count": 4,
      "outputs": []
    },
    {
      "cell_type": "code",
      "metadata": {
        "id": "Z01KspyWdR2b",
        "colab_type": "code",
        "colab": {
          "base_uri": "https://localhost:8080/",
          "height": 204
        },
        "outputId": "019f0ba5-9015-45fa-e8e8-f2456f7f1b96"
      },
      "source": [
        "data_file = \"/content/Training_Data_Set_for_Data_Science_Case_Study.xlsx\"\n",
        "df_data = pd.read_excel(data_file,encoding=\"latin1\")\n",
        "df_data.head(5)\n",
        "\n"
      ],
      "execution_count": 5,
      "outputs": [
        {
          "output_type": "execute_result",
          "data": {
            "text/html": [
              "<div>\n",
              "<style scoped>\n",
              "    .dataframe tbody tr th:only-of-type {\n",
              "        vertical-align: middle;\n",
              "    }\n",
              "\n",
              "    .dataframe tbody tr th {\n",
              "        vertical-align: top;\n",
              "    }\n",
              "\n",
              "    .dataframe thead th {\n",
              "        text-align: right;\n",
              "    }\n",
              "</style>\n",
              "<table border=\"1\" class=\"dataframe\">\n",
              "  <thead>\n",
              "    <tr style=\"text-align: right;\">\n",
              "      <th></th>\n",
              "      <th>Company Name</th>\n",
              "      <th>Business Description</th>\n",
              "      <th>Industry Classification Tag</th>\n",
              "    </tr>\n",
              "  </thead>\n",
              "  <tbody>\n",
              "    <tr>\n",
              "      <th>0</th>\n",
              "      <td>ADSOUTH PARTNERS, INC.</td>\n",
              "      <td>Adsouth Partners, Inc. provides advertising ag...</td>\n",
              "      <td>Advertising</td>\n",
              "    </tr>\n",
              "    <tr>\n",
              "      <th>1</th>\n",
              "      <td>Artec Global Media, Inc.</td>\n",
              "      <td>Artec Global Media, Inc., formerly Artec Consu...</td>\n",
              "      <td>Advertising</td>\n",
              "    </tr>\n",
              "    <tr>\n",
              "      <th>2</th>\n",
              "      <td>Betawave Corp.</td>\n",
              "      <td>Betawave Corporation provides online marketing...</td>\n",
              "      <td>Advertising</td>\n",
              "    </tr>\n",
              "    <tr>\n",
              "      <th>3</th>\n",
              "      <td>BOSTON OMAHA Corp</td>\n",
              "      <td>Boston Omaha Corporation is engaged in the bus...</td>\n",
              "      <td>Advertising</td>\n",
              "    </tr>\n",
              "    <tr>\n",
              "      <th>4</th>\n",
              "      <td>Bright Mountain Media Inc</td>\n",
              "      <td>Bright Mountain Media, Inc. is a digital media...</td>\n",
              "      <td>Advertising</td>\n",
              "    </tr>\n",
              "  </tbody>\n",
              "</table>\n",
              "</div>"
            ],
            "text/plain": [
              "                Company Name  ... Industry Classification Tag\n",
              "0     ADSOUTH PARTNERS, INC.  ...                 Advertising\n",
              "1   Artec Global Media, Inc.  ...                 Advertising\n",
              "2             Betawave Corp.  ...                 Advertising\n",
              "3          BOSTON OMAHA Corp  ...                 Advertising\n",
              "4  Bright Mountain Media Inc  ...                 Advertising\n",
              "\n",
              "[5 rows x 3 columns]"
            ]
          },
          "metadata": {
            "tags": []
          },
          "execution_count": 5
        }
      ]
    },
    {
      "cell_type": "code",
      "metadata": {
        "id": "ZBM94yy8e5JL",
        "colab_type": "code",
        "colab": {}
      },
      "source": [
        "df_data = df_data.dropna()  #remove all\n",
        "df_data[\"Business Description\"] = df_data['Business Description'].str.replace('[^\\w\\s]','')"
      ],
      "execution_count": 11,
      "outputs": []
    },
    {
      "cell_type": "code",
      "metadata": {
        "id": "vCTTaGdYe5UA",
        "colab_type": "code",
        "colab": {}
      },
      "source": [
        "df_data[\"Business Description\"] = df_data['Business Description'].str.lower()"
      ],
      "execution_count": 13,
      "outputs": []
    },
    {
      "cell_type": "code",
      "metadata": {
        "id": "4Ry-GjJDil1F",
        "colab_type": "code",
        "colab": {}
      },
      "source": [
        "spec_chars = [\"!\",'\"',\"#\",\"%\",\"&\",\"'\",\"(\",\")\",\n",
        "              \"*\",\"+\",\",\",\"-\",\".\",\"/\",\":\",\";\",\"<\",\n",
        "              \"=\",\">\",\"?\",\"@\",\"[\",\"\\\\\",\"]\",\"^\",\"_\",\n",
        "              \"`\",\"{\",\"|\",\"}\",\"~\",\"–\"]\n",
        "for char in spec_chars:\n",
        "    df_data['Business Description'] = df_data['Business Description'].str.replace(char, ' ')"
      ],
      "execution_count": 23,
      "outputs": []
    },
    {
      "cell_type": "code",
      "metadata": {
        "id": "kFGpwt7mi4CQ",
        "colab_type": "code",
        "colab": {}
      },
      "source": [
        "df_data['Business Description'] = df_data['Business Description'].str.split().str.join(\" \")"
      ],
      "execution_count": 24,
      "outputs": []
    },
    {
      "cell_type": "code",
      "metadata": {
        "id": "Adu6PXiNhN9h",
        "colab_type": "code",
        "colab": {
          "base_uri": "https://localhost:8080/",
          "height": 221
        },
        "outputId": "0cd2c75f-9c3c-4f72-ef4c-3ee474544a9b"
      },
      "source": [
        "df_data[\"Business Description\"]"
      ],
      "execution_count": 25,
      "outputs": [
        {
          "output_type": "execute_result",
          "data": {
            "text/plain": [
              "0       adsouth partners inc provides advertising agen...\n",
              "1       artec global media inc formerly artec consulti...\n",
              "2       betawave corporation provides online marketing...\n",
              "3       boston omaha corporation is engaged in the bus...\n",
              "4       bright mountain media inc is a digital media h...\n",
              "                              ...                        \n",
              "6040    willis lease finance corporation along with it...\n",
              "6041    windgen energy inc windgen is focused on wind ...\n",
              "6042    xli technologies inc formerly mineria y explor...\n",
              "6043    armco metals holdings inc is a scrap steel pro...\n",
              "6044    foundation building materials inc is a special...\n",
              "Name: Business Description, Length: 6022, dtype: object"
            ]
          },
          "metadata": {
            "tags": []
          },
          "execution_count": 25
        }
      ]
    },
    {
      "cell_type": "code",
      "metadata": {
        "id": "KrgD6lqFdR-d",
        "colab_type": "code",
        "colab": {
          "base_uri": "https://localhost:8080/",
          "height": 343
        },
        "outputId": "b5a50430-2fa9-4c4b-a65f-8192d2b76157"
      },
      "source": [
        "df_data = df_data.dropna()\n",
        "print(df_data['Business Description'].isnull().values.any())\n",
        "\n",
        "print(df_data.columns)\n",
        "\n",
        "label_list = df_data[\"Industry Classification Tag\"].unique()\n",
        "print(len(label_list))\n",
        "\n",
        "print(df_data[\"Industry Classification Tag\"].value_counts())\n",
        "\n",
        "sentences = df_data[\"Business Description\"].to_list()\n",
        "print(sentences[0])\n",
        "\n",
        "labels = df_data[\"Industry Classification Tag\"].to_list()\n",
        "print(len(labels))\n",
        "print(labels[0])"
      ],
      "execution_count": 26,
      "outputs": [
        {
          "output_type": "stream",
          "text": [
            "False\n",
            "Index(['Company Name', 'Business Description', 'Industry Classification Tag'], dtype='object')\n",
            "62\n",
            "Regional Banks                        569\n",
            "Biotechnology                         402\n",
            "Gold                                  357\n",
            "Oil & Gas Exploration & Production    224\n",
            "Application Software                  205\n",
            "                                     ... \n",
            "Technology Distributors                51\n",
            "Auto Parts & Equipment                 51\n",
            "Internet Services & Infrastructure     50\n",
            "Real Estate Operating Companies        50\n",
            "Property & Casualty Insurance          50\n",
            "Name: Industry Classification Tag, Length: 62, dtype: int64\n",
            "adsouth partners inc provides advertising agency services specializing in direct response media campaigns it also owns the distribution rights to a number of products that it acquired the business consists of two operating sectors advertising and products during the year ended december 31 2005 it internally developed and marketed two lines of flashlights branded as the extreme beam flashlight and the clip light the company obtained exclusive fiveyear marketing and distribution rights for the hercules hook distribution rights for dshed and pearlanti wrinkle moisturizing mist in 2005 in 2005 the company also organized genco power solutions inc genco for the purpose of marketing selling installing and servicing integrated power generator systems to residential homeowners and commercial business throughout florida the company owns 66 of genco\n",
            "6022\n",
            "Advertising\n"
          ],
          "name": "stdout"
        }
      ]
    },
    {
      "cell_type": "code",
      "metadata": {
        "id": "Z2meWdD4dSJB",
        "colab_type": "code",
        "colab": {
          "base_uri": "https://localhost:8080/",
          "height": 54
        },
        "outputId": "36560699-706e-44f1-b2cb-3c6f81802102"
      },
      "source": [
        "tag2idx ={}\n",
        "m= 0\n",
        "for i in label_list:\n",
        "    tag2idx[i] = m\n",
        "    m = m+1\n",
        "\n",
        "#print(tag2idx)\n",
        "\n",
        "tag2name={tag2idx[key] : key for key in tag2idx.keys()}\n",
        "print(tag2name)\n",
        "\n"
      ],
      "execution_count": 27,
      "outputs": [
        {
          "output_type": "stream",
          "text": [
            "{0: 'Advertising', 1: 'Aerospace & Defense', 2: 'Apparel Retail', 3: 'Apparel, Accessories & Luxury Goods', 4: 'Application Software', 5: 'Asset Management & Custody Banks', 6: 'Auto Parts & Equipment', 7: 'Biotechnology', 8: 'Building Products', 9: 'Casinos & Gaming', 10: 'Commodity Chemicals', 11: 'Communications Equipment', 12: 'Construction & Engineering', 13: 'Construction Machinery & Heavy Trucks', 14: 'Consumer Finance', 15: 'Data Processing & Outsourced Services', 16: 'Diversified Metals & Mining', 17: 'Diversified Support Services', 18: 'Electric Utilities', 19: 'Electrical Components & Equipment', 20: 'Electronic Equipment & Instruments', 21: 'Environmental & Facilities Services', 22: 'Gold', 23: 'Health Care Equipment', 24: 'Health Care Facilities', 25: 'Health Care Services', 26: 'Health Care Supplies', 27: 'Health Care Technology', 28: 'Homebuilding', 29: 'Hotels, Resorts & Cruise Lines', 30: 'Human Resource & Employment Services', 31: 'Industrial Machinery', 32: 'Integrated Telecommunication Services', 33: 'Interactive Media & Services', 34: 'Internet & Direct Marketing Retail', 35: 'Internet Services & Infrastructure', 36: 'Investment Banking & Brokerage', 37: 'IT Consulting & Other Services', 38: 'Leisure Products', 39: 'Life Sciences Tools & Services', 40: 'Movies & Entertainment', 41: 'Oil & Gas Equipment & Services', 42: 'Oil & Gas Exploration & Production', 43: 'Oil & Gas Refining & Marketing', 44: 'Oil & Gas Storage & Transportation', 45: 'Packaged Foods & Meats', 46: 'Personal Products', 47: 'Pharmaceuticals', 48: 'Property & Casualty Insurance', 49: 'Real Estate Operating Companies', 50: 'Regional Banks', 51: 'Research & Consulting Services', 52: 'Restaurants', 53: 'Semiconductors', 54: 'Specialty Chemicals', 55: 'Specialty Stores', 56: 'Steel', 57: 'Systems Software', 58: 'Technology Distributors', 59: 'Technology Hardware, Storage & Peripherals', 60: 'Thrifts & Mortgage Finance', 61: 'Trading Companies & Distributors'}\n"
          ],
          "name": "stdout"
        }
      ]
    },
    {
      "cell_type": "code",
      "metadata": {
        "id": "F0cL-qFCdSFk",
        "colab_type": "code",
        "colab": {
          "base_uri": "https://localhost:8080/",
          "height": 34
        },
        "outputId": "b05099ed-8858-4675-e47e-47d4c80f01a7"
      },
      "source": [
        "device = torch.device(\"cuda\" if torch.cuda.is_available() else \"cpu\")\n",
        "n_gpu = torch.cuda.device_count()\n",
        "n_gpu\n"
      ],
      "execution_count": 28,
      "outputs": [
        {
          "output_type": "execute_result",
          "data": {
            "text/plain": [
              "1"
            ]
          },
          "metadata": {
            "tags": []
          },
          "execution_count": 28
        }
      ]
    },
    {
      "cell_type": "code",
      "metadata": {
        "id": "gakeQxvedSCp",
        "colab_type": "code",
        "colab": {}
      },
      "source": [
        "vocabulary = '/content/xlnet-base-cased-spiece.model'      # initially i am using pretrainde vocab for tokenization\n",
        "\n",
        "max_len  = 128\n",
        "tokenizer = XLNetTokenizer(vocab_file=vocabulary,do_lower_case=False)\n",
        "\n",
        "max_len  =  128\n",
        "\n",
        "full_input_ids = []\n",
        "full_input_masks = []\n",
        "full_segment_ids = []\n",
        "\n",
        "SEG_ID_A   = 0\n",
        "SEG_ID_B   = 1\n",
        "SEG_ID_CLS = 2\n",
        "SEG_ID_SEP = 3\n",
        "SEG_ID_PAD = 4\n",
        "\n",
        "UNK_ID = tokenizer.encode(\"<unk>\")[0]  \n",
        "CLS_ID = tokenizer.encode(\"<cls>\")[0]\n",
        "SEP_ID = tokenizer.encode(\"<sep>\")[0]\n",
        "MASK_ID = tokenizer.encode(\"<mask>\")[0]\n",
        "EOD_ID = tokenizer.encode(\"<eod>\")[0]"
      ],
      "execution_count": 29,
      "outputs": []
    },
    {
      "cell_type": "code",
      "metadata": {
        "id": "7n8-f1X3dR8m",
        "colab_type": "code",
        "colab": {}
      },
      "source": [
        "for i,sentence in enumerate(sentences):\n",
        "    # Tokenize sentence to token id list\n",
        "    tokens_a = tokenizer.encode(sentence)\n",
        "    \n",
        "    # Trim the len of text\n",
        "    if(len(tokens_a)>max_len-2):\n",
        "        tokens_a = tokens_a[:max_len-2]\n",
        "    \n",
        "    tokens = []\n",
        "    segment_ids = []\n",
        "    \n",
        "    for token in tokens_a:\n",
        "        tokens.append(token)\n",
        "        segment_ids.append(SEG_ID_A)\n",
        "        \n",
        "    tokens.append(SEP_ID)\n",
        "    segment_ids.append(SEG_ID_A)\n",
        "   \n",
        "    tokens.append(CLS_ID)\n",
        "    segment_ids.append(SEG_ID_CLS)\n",
        "    \n",
        "    input_ids = tokens\n",
        "    \n",
        "    input_mask = [0] * len(input_ids)  # mask 0 for real tokens and 1 for padding tokens\n",
        "    \n",
        "    if len(input_ids) < max_len:\n",
        "        delta_len = max_len - len(input_ids)\n",
        "        input_ids = [0] * delta_len + input_ids\n",
        "        input_mask = [1] * delta_len + input_mask\n",
        "        segment_ids = [SEG_ID_PAD] * delta_len + segment_ids\n",
        "\n",
        "    \n",
        "    full_input_ids.append(input_ids)\n",
        "    full_input_masks.append(input_mask)\n",
        "    full_segment_ids.append(segment_ids)\n",
        "    "
      ],
      "execution_count": 30,
      "outputs": []
    },
    {
      "cell_type": "code",
      "metadata": {
        "id": "fyuyNiH5dR5Z",
        "colab_type": "code",
        "colab": {
          "base_uri": "https://localhost:8080/",
          "height": 34
        },
        "outputId": "a72c62b7-f9de-47ab-e59e-9d5c52b173e0"
      },
      "source": [
        "tags = [tag2idx[str(lab)] for lab in labels]\n",
        "print(tags[300])\n",
        "\n",
        "tr_inputs, val_inputs, tr_tags, val_tags,tr_masks, val_masks,tr_segs, val_segs = train_test_split(full_input_ids, tags,full_input_masks,full_segment_ids,random_state=4, test_size=0.3)\n",
        "\n",
        "\n",
        "tr_inputs = torch.tensor(tr_inputs)\n",
        "val_inputs = torch.tensor(val_inputs)\n",
        "tr_tags = torch.tensor(tr_tags)\n",
        "val_tags = torch.tensor(val_tags)\n",
        "tr_masks = torch.tensor(tr_masks)\n",
        "val_masks = torch.tensor(val_masks)\n",
        "tr_segs = torch.tensor(tr_segs)\n",
        "val_segs = torch.tensor(val_segs)\n",
        "\n",
        "\n",
        "\n",
        "\n"
      ],
      "execution_count": 31,
      "outputs": [
        {
          "output_type": "stream",
          "text": [
            "3\n"
          ],
          "name": "stdout"
        }
      ]
    },
    {
      "cell_type": "code",
      "metadata": {
        "id": "YMMqOYBfdR0h",
        "colab_type": "code",
        "colab": {}
      },
      "source": [
        "batch_num = 32\n",
        "\n",
        "train_data = TensorDataset(tr_inputs, tr_masks,tr_segs, tr_tags)\n",
        "train_sampler = RandomSampler(train_data)\n",
        "\n",
        "train_dataloader = DataLoader(train_data, sampler=train_sampler, batch_size=batch_num,drop_last=True) # Drop last can make batch training better for the last one\n",
        "\n",
        "valid_data = TensorDataset(val_inputs, val_masks,val_segs, val_tags)\n",
        "valid_sampler = SequentialSampler(valid_data)\n",
        "valid_dataloader = DataLoader(valid_data, sampler=valid_sampler, batch_size=batch_num)\n",
        "\n"
      ],
      "execution_count": 32,
      "outputs": []
    },
    {
      "cell_type": "code",
      "metadata": {
        "id": "TBkKkHp1dRxP",
        "colab_type": "code",
        "colab": {
          "base_uri": "https://localhost:8080/",
          "height": 220,
          "referenced_widgets": [
            "9270e42f979e4ef1a96f7193fe422b8f",
            "fe5eb34f5c8f4604b4bc3274b9cc6e31",
            "2fc67395cae041c08cc4eeb879bba89f",
            "38118c193c614dad87e4966acf2ecc84",
            "1175d38266a542cea76e542756cc66c5",
            "c3c54dfe52a7406a9edacda7f35a26d9",
            "22264b9c9caf4c6ea46bfcf0d7146a61",
            "ad083bd037b442a698f428a5033a0e30",
            "8e378b2d0dd24f06a930bfaf4ad9dccc",
            "316ac7d464b349b08983f595aa06a4d7",
            "48f3a5c7135a40c594dd9eb1a4a34bce",
            "8e9dc769c570440e828ed70f8fcd5597",
            "3fd70b1eed1848abbc7b00326408a8ef",
            "d8b6be047ad745da9cf02dabc6290dcc",
            "767eae04ee9943e3b1a6c6b747b00ebd",
            "1e4a84b8f62a4360b1cebc46db341206"
          ]
        },
        "outputId": "f7359a27-8525-4582-9302-226da1269f71"
      },
      "source": [
        "model = XLNetForSequenceClassification.from_pretrained(\"xlnet-base-cased\",num_labels=len(tag2idx))\n",
        "\n",
        "model;\n",
        "\n",
        "model.to(device);\n",
        "\n",
        "if n_gpu >1:\n",
        "    model = torch.nn.DataParallel(model)"
      ],
      "execution_count": 33,
      "outputs": [
        {
          "output_type": "display_data",
          "data": {
            "application/vnd.jupyter.widget-view+json": {
              "model_id": "9270e42f979e4ef1a96f7193fe422b8f",
              "version_minor": 0,
              "version_major": 2
            },
            "text/plain": [
              "HBox(children=(FloatProgress(value=0.0, description='Downloading', max=760.0, style=ProgressStyle(description_…"
            ]
          },
          "metadata": {
            "tags": []
          }
        },
        {
          "output_type": "stream",
          "text": [
            "\n"
          ],
          "name": "stdout"
        },
        {
          "output_type": "display_data",
          "data": {
            "application/vnd.jupyter.widget-view+json": {
              "model_id": "8e378b2d0dd24f06a930bfaf4ad9dccc",
              "version_minor": 0,
              "version_major": 2
            },
            "text/plain": [
              "HBox(children=(FloatProgress(value=0.0, description='Downloading', max=467042463.0, style=ProgressStyle(descri…"
            ]
          },
          "metadata": {
            "tags": []
          }
        },
        {
          "output_type": "stream",
          "text": [
            "\n"
          ],
          "name": "stdout"
        },
        {
          "output_type": "stream",
          "text": [
            "Some weights of the model checkpoint at xlnet-base-cased were not used when initializing XLNetForSequenceClassification: ['lm_loss.weight', 'lm_loss.bias']\n",
            "- This IS expected if you are initializing XLNetForSequenceClassification from the checkpoint of a model trained on another task or with another architecture (e.g. initializing a BertForSequenceClassification model from a BertForPretraining model).\n",
            "- This IS NOT expected if you are initializing XLNetForSequenceClassification from the checkpoint of a model that you expect to be exactly identical (initializing a BertForSequenceClassification model from a BertForSequenceClassification model).\n",
            "Some weights of XLNetForSequenceClassification were not initialized from the model checkpoint at xlnet-base-cased and are newly initialized: ['sequence_summary.summary.weight', 'sequence_summary.summary.bias', 'logits_proj.weight', 'logits_proj.bias']\n",
            "You should probably TRAIN this model on a down-stream task to be able to use it for predictions and inference.\n"
          ],
          "name": "stderr"
        }
      ]
    },
    {
      "cell_type": "code",
      "metadata": {
        "id": "R0ecQ3UndRuX",
        "colab_type": "code",
        "colab": {}
      },
      "source": [
        "epochs = 5\n",
        "max_grad_norm = 1.0\n",
        "num_train_optimization_steps = int( math.ceil(len(tr_inputs) / batch_num) / 1) * epochs\n",
        "True\n",
        "FULL_FINETUNING = True   # you can fine tune all the parameters or only classfier layer with FULL_FINETUNING.\n",
        "\n",
        "if FULL_FINETUNING:\n",
        "    \n",
        "    param_optimizer = list(model.named_parameters())\n",
        "    no_decay = ['bias', 'gamma', 'beta']\n",
        "    optimizer_grouped_parameters = [\n",
        "        {'params': [p for n, p in param_optimizer if not any(nd in n for nd in no_decay)],\n",
        "         'weight_decay_rate': 0.01},\n",
        "        {'params': [p for n, p in param_optimizer if any(nd in n for nd in no_decay)],\n",
        "         'weight_decay_rate': 0.0}\n",
        "    ]\n",
        "else:\n",
        "   \n",
        "    param_optimizer = list(model.classifier.named_parameters()) \n",
        "    optimizer_grouped_parameters = [{\"params\": [p for n, p in param_optimizer]}]\n",
        "optimizer = Adam(optimizer_grouped_parameters, lr=3e-5)\n",
        "\n",
        "\n",
        "\n"
      ],
      "execution_count": 45,
      "outputs": []
    },
    {
      "cell_type": "code",
      "metadata": {
        "id": "yCBv2J7UdRsC",
        "colab_type": "code",
        "colab": {
          "base_uri": "https://localhost:8080/",
          "height": 170
        },
        "outputId": "155ff0d2-36fd-43d0-84ac-e1afbcdd5be2"
      },
      "source": [
        "model.train()  #initiating training\n",
        "\n",
        "print(\"  Num examples = %d\"%(len(tr_inputs)))\n",
        "print(\"  Batch size = %d\"%(batch_num))\n",
        "print(\"  Num steps = %d\"%(num_train_optimization_steps))\n",
        "for _ in trange(epochs,desc=\"Epoch\"):\n",
        "    tr_loss = 0\n",
        "    nb_tr_examples, nb_tr_steps = 0, 0\n",
        "    for step, batch in enumerate(train_dataloader):\n",
        "       \n",
        "        batch = tuple(t.to(device) for t in batch)\n",
        "        b_input_ids, b_input_mask, b_segs,b_labels = batch\n",
        "        \n",
        "        # ---------------forward prop-----------------\n",
        "        outputs = model(input_ids =b_input_ids,token_type_ids=b_segs, input_mask = b_input_mask,labels=b_labels)\n",
        "        loss, logits = outputs[:2]\n",
        "        if n_gpu>1:\n",
        "            loss = loss.mean()  # for multi-gup average it\n",
        "        \n",
        "        # ------------------backward prop------------\n",
        "        loss.backward()\n",
        "        \n",
        "        #----training loss----\n",
        "        tr_loss += loss.item()\n",
        "        nb_tr_examples += b_input_ids.size(0)\n",
        "        nb_tr_steps += 1\n",
        "        \n",
        "        torch.nn.utils.clip_grad_norm_(parameters=model.parameters(), max_norm=max_grad_norm)\n",
        "        \n",
        "        #-------- update parameters---------\n",
        "        optimizer.step()\n",
        "        optimizer.zero_grad()\n",
        "        \n",
        "        \n",
        "    print(\"Train loss: {}\".format(tr_loss/nb_tr_steps))\n"
      ],
      "execution_count": 46,
      "outputs": [
        {
          "output_type": "stream",
          "text": [
            "\rEpoch:   0%|          | 0/5 [00:00<?, ?it/s]"
          ],
          "name": "stderr"
        },
        {
          "output_type": "stream",
          "text": [
            "  Num examples = 4215\n",
            "  Batch size = 32\n",
            "  Num steps = 660\n"
          ],
          "name": "stdout"
        },
        {
          "output_type": "stream",
          "text": [
            "\rEpoch:  20%|██        | 1/5 [04:17<17:10, 257.53s/it]"
          ],
          "name": "stderr"
        },
        {
          "output_type": "stream",
          "text": [
            "Train loss: 0.1062272229722438\n"
          ],
          "name": "stdout"
        },
        {
          "output_type": "stream",
          "text": [
            "\rEpoch:  40%|████      | 2/5 [08:34<12:52, 257.36s/it]"
          ],
          "name": "stderr"
        },
        {
          "output_type": "stream",
          "text": [
            "Train loss: 0.06489531149845996\n"
          ],
          "name": "stdout"
        },
        {
          "output_type": "stream",
          "text": [
            "\rEpoch:  60%|██████    | 3/5 [12:51<08:34, 257.18s/it]"
          ],
          "name": "stderr"
        },
        {
          "output_type": "stream",
          "text": [
            "Train loss: 0.040497852020136275\n"
          ],
          "name": "stdout"
        },
        {
          "output_type": "stream",
          "text": [
            "\rEpoch:  80%|████████  | 4/5 [17:08<04:17, 257.08s/it]"
          ],
          "name": "stderr"
        },
        {
          "output_type": "stream",
          "text": [
            "Train loss: 0.038283529456790165\n"
          ],
          "name": "stdout"
        },
        {
          "output_type": "stream",
          "text": [
            "Epoch: 100%|██████████| 5/5 [21:24<00:00, 257.00s/it]"
          ],
          "name": "stderr"
        },
        {
          "output_type": "stream",
          "text": [
            "Train loss: 0.031716345205106806\n"
          ],
          "name": "stdout"
        },
        {
          "output_type": "stream",
          "text": [
            "\n"
          ],
          "name": "stderr"
        }
      ]
    },
    {
      "cell_type": "code",
      "metadata": {
        "id": "R06RRd_JdRpc",
        "colab_type": "code",
        "colab": {
          "base_uri": "https://localhost:8080/",
          "height": 34
        },
        "outputId": "2b507c8f-9fb1-4f27-a741-4d666ccfa0fc"
      },
      "source": [
        "xlnet_out_address = '/content/sample_data/models/xlnet_out_model/tc02'\n",
        "\n",
        "if not os.path.exists(xlnet_out_address):\n",
        "        os.makedirs(xlnet_out_address)\n",
        "\n",
        "model_to_save = model.module if hasattr(model, 'module') else model\n",
        "\n",
        "output_model_file = os.path.join(xlnet_out_address, \"pytorch_model.bin\")\n",
        "output_config_file = os.path.join(xlnet_out_address, \"config.json\")\n",
        "\n",
        "torch.save(model_to_save.state_dict(), output_model_file)\n",
        "model_to_save.config.to_json_file(output_config_file)\n",
        "tokenizer.save_vocabulary(xlnet_out_address)\n"
      ],
      "execution_count": 47,
      "outputs": [
        {
          "output_type": "execute_result",
          "data": {
            "text/plain": [
              "('/content/sample_data/models/xlnet_out_model/tc02/spiece.model',)"
            ]
          },
          "metadata": {
            "tags": []
          },
          "execution_count": 47
        }
      ]
    },
    {
      "cell_type": "code",
      "metadata": {
        "id": "AU08n1GYdRm9",
        "colab_type": "code",
        "colab": {}
      },
      "source": [
        "model = XLNetForSequenceClassification.from_pretrained(xlnet_out_address,num_labels=len(tag2idx))\n",
        "\n",
        "model.to(device);\n",
        "\n",
        "if n_gpu >1:\n",
        "    model = torch.nn.DataParallel(model)\n",
        "\n",
        "model.eval();\n",
        "\n",
        "def accuracy(out, labels):\n",
        "    outputs = np.argmax(out, axis=1)\n",
        "    return np.sum(outputs == labels)\n",
        "\n",
        "eval_loss, eval_accuracy = 0, 0\n",
        "nb_eval_steps, nb_eval_examples = 0, 0\n",
        "\n",
        "y_true = []\n",
        "y_predict = []"
      ],
      "execution_count": 48,
      "outputs": []
    },
    {
      "cell_type": "code",
      "metadata": {
        "id": "z3q9hTW9dRjz",
        "colab_type": "code",
        "colab": {
          "base_uri": "https://localhost:8080/",
          "height": 51
        },
        "outputId": "f60a3844-3a0d-47e3-c84c-07b67fd34875"
      },
      "source": [
        "print(\"  Num examples ={}\".format(len(val_inputs)))\n",
        "print(\"  Batch size = {}\".format(batch_num))\n",
        "for step, batch in enumerate(valid_dataloader):\n",
        "    batch = tuple(t.to(device) for t in batch)\n",
        "    b_input_ids, b_input_mask, b_segs,b_labels = batch\n",
        "    \n",
        "    with torch.no_grad():\n",
        "        outputs = model(input_ids =b_input_ids,token_type_ids=b_segs, input_mask = b_input_mask,labels=b_labels)\n",
        "        tmp_eval_loss, logits = outputs[:2]# outputs in a tuple form \n",
        "    \n",
        "    logits = logits.detach().cpu().numpy()\n",
        "    label_ids = b_labels.to('cpu').numpy()\n",
        "    tmp_eval_accuracy = accuracy(logits, label_ids)\n",
        "\n",
        "    for predict in np.argmax(logits, axis=1):\n",
        "        y_predict.append(predict)\n",
        "        \n",
        "    for real_result in label_ids.tolist():\n",
        "        y_true.append(real_result)\n",
        "\n",
        "    \n",
        "    eval_loss += tmp_eval_loss.mean().item()\n",
        "    eval_accuracy += tmp_eval_accuracy\n",
        "   \n",
        "    nb_eval_steps += 1\n",
        "\n",
        "eval_loss = eval_loss / nb_eval_steps\n",
        "eval_accuracy = eval_accuracy / len(val_inputs)\n",
        "loss = tr_loss/nb_tr_steps \n",
        "result = {'eval_loss': eval_loss,\n",
        "                  'eval_accuracy': eval_accuracy,\n",
        "                  'loss': loss}\n",
        "report = classification_report(y_pred=np.array(y_predict),y_true=np.array(y_true))\n"
      ],
      "execution_count": 49,
      "outputs": [
        {
          "output_type": "stream",
          "text": [
            "  Num examples =1807\n",
            "  Batch size = 32\n"
          ],
          "name": "stdout"
        }
      ]
    },
    {
      "cell_type": "code",
      "metadata": {
        "id": "uNIIX5lTum0l",
        "colab_type": "code",
        "colab": {
          "base_uri": "https://localhost:8080/",
          "height": 1000
        },
        "outputId": "0a961b63-8e7e-415d-cf82-93992e4f37c4"
      },
      "source": [
        "print(report)"
      ],
      "execution_count": 43,
      "outputs": [
        {
          "output_type": "stream",
          "text": [
            "              precision    recall  f1-score   support\n",
            "\n",
            "           0       0.59      0.59      0.59        34\n",
            "           1       0.71      0.63      0.67        19\n",
            "           2       0.65      0.71      0.68        21\n",
            "           3       0.63      0.81      0.71        21\n",
            "           4       0.59      0.63      0.61        65\n",
            "           5       0.74      0.46      0.57        37\n",
            "           6       0.69      0.55      0.61        20\n",
            "           7       0.76      0.91      0.83       120\n",
            "           8       0.81      0.58      0.68        36\n",
            "           9       0.97      0.97      0.97        29\n",
            "          10       0.67      0.36      0.47        22\n",
            "          11       0.74      0.63      0.68        27\n",
            "          12       0.67      0.43      0.53        23\n",
            "          13       0.41      0.54      0.47        13\n",
            "          14       0.53      0.64      0.58        14\n",
            "          15       0.75      0.45      0.56        20\n",
            "          16       0.50      0.33      0.40        12\n",
            "          17       0.50      0.33      0.40        24\n",
            "          18       0.93      0.76      0.84        17\n",
            "          19       0.56      0.65      0.60        23\n",
            "          20       0.39      0.71      0.50        17\n",
            "          21       0.65      0.54      0.59        28\n",
            "          22       0.93      0.97      0.95       117\n",
            "          23       0.65      0.81      0.72        43\n",
            "          24       0.79      0.94      0.86        16\n",
            "          25       0.40      0.35      0.38        17\n",
            "          26       0.58      0.35      0.44        20\n",
            "          27       0.21      0.30      0.25        10\n",
            "          28       0.90      0.90      0.90        20\n",
            "          29       0.85      0.89      0.87        19\n",
            "          30       0.67      0.78      0.72        18\n",
            "          31       0.42      0.74      0.54        23\n",
            "          32       0.85      0.89      0.87        19\n",
            "          33       0.39      0.56      0.46        25\n",
            "          34       0.42      0.31      0.36        16\n",
            "          35       0.45      0.53      0.49        17\n",
            "          36       0.41      0.86      0.56        14\n",
            "          37       0.48      0.63      0.55        19\n",
            "          38       1.00      0.71      0.83        21\n",
            "          39       0.82      0.52      0.64        27\n",
            "          40       0.82      0.79      0.81        29\n",
            "          41       0.68      0.70      0.69        27\n",
            "          42       0.96      0.80      0.88        66\n",
            "          43       0.64      0.64      0.64        14\n",
            "          44       0.84      0.95      0.89        22\n",
            "          45       0.64      0.90      0.75        10\n",
            "          46       0.62      0.70      0.65        23\n",
            "          47       0.74      0.54      0.62        54\n",
            "          48       0.94      1.00      0.97        16\n",
            "          49       0.73      0.67      0.70        12\n",
            "          50       0.93      0.95      0.94       178\n",
            "          51       0.54      0.35      0.43        37\n",
            "          52       0.95      0.95      0.95        22\n",
            "          53       0.43      0.81      0.57        16\n",
            "          54       0.50      0.63      0.56        19\n",
            "          55       0.56      0.67      0.61        15\n",
            "          56       0.92      0.48      0.63        23\n",
            "          57       0.50      0.30      0.37        20\n",
            "          58       0.54      0.74      0.62        19\n",
            "          59       0.58      0.30      0.40        23\n",
            "          60       0.78      0.69      0.73        45\n",
            "          61       0.64      0.64      0.64        14\n",
            "\n",
            "    accuracy                           0.71      1807\n",
            "   macro avg       0.66      0.65      0.64      1807\n",
            "weighted avg       0.72      0.71      0.71      1807\n",
            "\n"
          ],
          "name": "stdout"
        }
      ]
    },
    {
      "cell_type": "code",
      "metadata": {
        "id": "N_T2Yj87ccdt",
        "colab_type": "code",
        "colab": {
          "base_uri": "https://localhost:8080/",
          "height": 1000
        },
        "outputId": "b5115794-b11c-4e09-daa9-2fc8966655a1"
      },
      "source": [
        "output_eval_file = os.path.join(xlnet_out_address, \"eval_results.txt\")\n",
        "with open(output_eval_file, \"w\") as writer:\n",
        "    for key in sorted(result.keys()):\n",
        "        print(\"  %s = %s\"%(key, str(result[key])))\n",
        "        writer.write(\"%s = %s\\n\" % (key, str(result[key])))\n",
        "        \n",
        "    print(report)\n",
        "    writer.write(\"\\n\\n\")  \n",
        "    writer.write(report)\n"
      ],
      "execution_count": 50,
      "outputs": [
        {
          "output_type": "stream",
          "text": [
            "  eval_accuracy = 0.7172108467072495\n",
            "  eval_loss = 1.711126724878947\n",
            "  loss = 0.031716345205106806\n",
            "              precision    recall  f1-score   support\n",
            "\n",
            "           0       0.65      0.71      0.68        34\n",
            "           1       0.82      0.74      0.78        19\n",
            "           2       0.78      0.67      0.72        21\n",
            "           3       0.55      0.86      0.67        21\n",
            "           4       0.61      0.58      0.60        65\n",
            "           5       0.73      0.65      0.69        37\n",
            "           6       0.57      0.40      0.47        20\n",
            "           7       0.89      0.69      0.78       120\n",
            "           8       0.77      0.64      0.70        36\n",
            "           9       0.97      0.97      0.97        29\n",
            "          10       0.41      0.41      0.41        22\n",
            "          11       0.79      0.70      0.75        27\n",
            "          12       0.80      0.52      0.63        23\n",
            "          13       0.60      0.46      0.52        13\n",
            "          14       0.55      0.86      0.67        14\n",
            "          15       0.92      0.55      0.69        20\n",
            "          16       0.36      0.33      0.35        12\n",
            "          17       0.56      0.42      0.48        24\n",
            "          18       0.93      0.76      0.84        17\n",
            "          19       0.33      0.83      0.47        23\n",
            "          20       0.34      0.82      0.48        17\n",
            "          21       0.70      0.57      0.63        28\n",
            "          22       0.92      0.96      0.94       117\n",
            "          23       0.67      0.72      0.70        43\n",
            "          24       0.74      0.88      0.80        16\n",
            "          25       0.53      0.59      0.56        17\n",
            "          26       0.55      0.60      0.57        20\n",
            "          27       0.50      0.30      0.37        10\n",
            "          28       0.86      0.90      0.88        20\n",
            "          29       1.00      0.68      0.81        19\n",
            "          30       0.72      0.72      0.72        18\n",
            "          31       0.54      0.61      0.57        23\n",
            "          32       0.77      0.89      0.83        19\n",
            "          33       0.60      0.36      0.45        25\n",
            "          34       0.50      0.38      0.43        16\n",
            "          35       0.38      0.59      0.47        17\n",
            "          36       0.71      0.86      0.77        14\n",
            "          37       0.36      0.63      0.46        19\n",
            "          38       1.00      0.62      0.76        21\n",
            "          39       0.61      0.70      0.66        27\n",
            "          40       0.92      0.76      0.83        29\n",
            "          41       0.77      0.74      0.75        27\n",
            "          42       0.98      0.80      0.88        66\n",
            "          43       0.67      0.86      0.75        14\n",
            "          44       0.80      0.91      0.85        22\n",
            "          45       0.75      0.90      0.82        10\n",
            "          46       0.56      0.78      0.65        23\n",
            "          47       0.56      0.74      0.63        54\n",
            "          48       0.89      1.00      0.94        16\n",
            "          49       0.88      0.58      0.70        12\n",
            "          50       0.95      0.95      0.95       178\n",
            "          51       0.62      0.43      0.51        37\n",
            "          52       0.91      0.91      0.91        22\n",
            "          53       0.87      0.81      0.84        16\n",
            "          54       0.44      0.58      0.50        19\n",
            "          55       0.63      0.80      0.71        15\n",
            "          56       0.88      0.61      0.72        23\n",
            "          57       0.44      0.55      0.49        20\n",
            "          58       0.69      0.47      0.56        19\n",
            "          59       0.42      0.22      0.29        23\n",
            "          60       0.81      0.78      0.80        45\n",
            "          61       0.78      0.50      0.61        14\n",
            "\n",
            "    accuracy                           0.72      1807\n",
            "   macro avg       0.69      0.67      0.67      1807\n",
            "weighted avg       0.75      0.72      0.72      1807\n",
            "\n"
          ],
          "name": "stdout"
        }
      ]
    },
    {
      "cell_type": "code",
      "metadata": {
        "id": "bmYkofycccnW",
        "colab_type": "code",
        "colab": {}
      },
      "source": [
        ""
      ],
      "execution_count": null,
      "outputs": []
    },
    {
      "cell_type": "code",
      "metadata": {
        "id": "Zog2IqQVccjL",
        "colab_type": "code",
        "colab": {}
      },
      "source": [
        ""
      ],
      "execution_count": null,
      "outputs": []
    }
  ]
}